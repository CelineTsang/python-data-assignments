{
 "cells": [
  {
   "cell_type": "code",
   "execution_count": 6,
   "metadata": {},
   "outputs": [],
   "source": [
    "import csv #导入csv模块\n",
    "alist = ['trade-wars-news1.txt',\n",
    "         'trade-wars-news2.txt',\n",
    "         'trade-wars-news3.txt',\n",
    "         'trade-wars-news4.txt',\n",
    "         'trade-wars-news5.txt']  #创建一个list，把所需内容全部放进去，为了for loop"
   ]
  },
  {
   "cell_type": "code",
   "execution_count": 7,
   "metadata": {},
   "outputs": [],
   "source": [
    "all_list = []  #创建一个空list 为了容纳alist\n",
    "for i in alist:       #把以上5个文件分别循环\n",
    "    f = open(i,'r')   #读取‘r' \n",
    "    content = f.read()  #把读取的内容赋给content\n",
    "    all_list.append(content) #再把content增加到这一个list里\n",
    "\n",
    "#output is ’Read all contents of files'"
   ]
  },
  {
   "cell_type": "code",
   "execution_count": 15,
   "metadata": {},
   "outputs": [],
   "source": [
    "all_words = []  #为了列出所有的单词\n",
    "for a in range(5):   \n",
    "    words = all_list[a].split() #words等于被分离后的单词们\n",
    "for w in words:\n",
    "    all_words.append(w)  #再把w(words的内容)增加到all_words里\n",
    "    \n",
    "#output is ’For every file, extract the English words from the file content‘ "
   ]
  },
  {
   "cell_type": "code",
   "execution_count": 18,
   "metadata": {},
   "outputs": [],
   "source": [
    "from collections import Counter # collections模块中的的Counter类是一个容器类型，可以用来对数据出现的次数进行计数统计\n",
    "cal = Counter()\n",
    "for c in all_words:\n",
    "    cal[c]+=1 # a+=1 equal to a=a+1"
   ]
  },
  {
   "cell_type": "code",
   "execution_count": 20,
   "metadata": {},
   "outputs": [],
   "source": [
    "ranking = sorted(cal.items(),key = lambda d: d[1],reverse = True) #降序 lambda是匿名函数 \n",
    "result = ranking[0:15] #保留前15位"
   ]
  },
  {
   "cell_type": "code",
   "execution_count": 21,
   "metadata": {},
   "outputs": [],
   "source": [
    "with open('words_ranking.csv','w') as f:\n",
    "    mywriter = csv.writer(f)\n",
    "    header=['words','frequency']\n",
    "    mywriter.writerow(header)\n",
    "    mywriter.writerows(result)"
   ]
  },
  {
   "cell_type": "code",
   "execution_count": null,
   "metadata": {},
   "outputs": [],
   "source": []
  }
 ],
 "metadata": {
  "kernelspec": {
   "display_name": "Python 3",
   "language": "python",
   "name": "python3"
  },
  "language_info": {
   "codemirror_mode": {
    "name": "ipython",
    "version": 3
   },
   "file_extension": ".py",
   "mimetype": "text/x-python",
   "name": "python",
   "nbconvert_exporter": "python",
   "pygments_lexer": "ipython3",
   "version": "3.7.0"
  }
 },
 "nbformat": 4,
 "nbformat_minor": 2
}
