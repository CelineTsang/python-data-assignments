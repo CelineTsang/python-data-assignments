{
 "cells": [
  {
   "cell_type": "code",
   "execution_count": 1,
   "metadata": {},
   "outputs": [],
   "source": [
    "import csv\n",
    "import requests\n",
    "url = \"http://www.dianping.com/hongkong/food/\"\n",
    "from bs4 import BeautifulSoup"
   ]
  },
  {
   "cell_type": "code",
   "execution_count": 2,
   "metadata": {},
   "outputs": [],
   "source": [
    "r = requests.get(url)\n",
    "html = r.text\n",
    "data = BeautifulSoup(html,\"html.parser\")"
   ]
  },
  {
   "cell_type": "code",
   "execution_count": 3,
   "metadata": {},
   "outputs": [],
   "source": [
    "rs = data.find_all('ul',attrs={'class':'detail'})"
   ]
  },
  {
   "cell_type": "code",
   "execution_count": 75,
   "metadata": {},
   "outputs": [
    {
     "name": "stdout",
     "output_type": "stream",
     "text": [
      "厨魔\n",
      "标签:更多美食\n",
      "地址:湾仔庄士敦道60号船街 J-Senses 1楼8号铺\n",
      "              +852-28508371\n",
      "Sushi Tokami\n",
      "标签:日本料理\n",
      "地址:海港城海洋中心二阶216A号铺\n",
      "              27713938\n",
      "大笪地火锅\n",
      "标签:火锅\n",
      "地址:九龙旺角弥敦道613号飞达商业大厦3楼\n",
      "              +852-21552789\n",
      "禾牛荟火煱馆\n",
      "标签:火锅\n",
      "地址:尖沙咀金马伦道中国保险大厦1楼\n",
      "              +852-39973369\n",
      "桥底辣蟹\n",
      "标签:海鲜\n",
      "地址:湾仔谢斐道414-424地下1-2号\n",
      "              +852-25737698\n",
      "大一海鲜火锅料理\n",
      "标签:火锅\n",
      "地址:香港九龙尖沙咀宝勒巷3-7A号万事昌广场2楼1室\n",
      "              +852-28896986\n",
      "蟹庆\n",
      "标签:日本料理\n",
      "地址:铜锣湾轩尼诗道525号澳门逸园中心地库\n",
      "              +852-26021600\n",
      "喜记避风塘炒辣蟹\n",
      "标签:中餐\n",
      "地址:湾仔谢斐道379号1-4号铺地下\n",
      "              +852-28937565\n",
      "御宝轩\n",
      "标签:粤菜\n",
      "地址:北京道1号10层\n",
      "              26139800\n",
      "一番風味\n",
      "标签:粤菜\n",
      "地址:香港特別行政區灣仔區湾仔道138号\n",
      "              +852-37021371\n",
      "喜记蟹将军\n",
      "标签:中餐\n",
      "地址:尖沙咀弥敦道63号国际广场6楼602室铺到国际广场6楼\n",
      "              +852-23667565\n",
      "不倒翁中日火锅料理\n",
      "标签:火锅\n",
      "地址:尖沙咀弥敦道63号ISQUARE国际广场23楼\n",
      "              +852-21521166\n",
      "阿一海景饭店\n",
      "标签:粤菜\n",
      "地址:九龙尖沙咀弥敦道63号国际广场29楼2902号铺\n",
      "              +852-23280983\n",
      "阿甘虾餐厅\n",
      "标签:西餐\n",
      "地址:山顶道128号凌霄阁3楼304-305号铺\n",
      "              +852-28492867\n",
      "Burgeroom\n",
      "标签:小吃快餐\n",
      "地址:Causeway Bay Paterson Street, No. 50-56\n",
      "              +852-28909130\n"
     ]
    }
   ],
   "source": [
    "for i in range(len(rs)):\n",
    "    print(rs[i].find('a')['title'])\n",
    "    print(rs[i].find('li',attrs={'class':'tags'}).text.split('\\n')[0])\n",
    "    print(rs[i].find('li',attrs={'class':'address'}).text.split('\\n')[1])\n",
    "    print(rs[i].find('li',attrs={'class':'address'}).text.split('\\n')[2])"
   ]
  },
  {
   "cell_type": "code",
   "execution_count": 49,
   "metadata": {},
   "outputs": [],
   "source": [
    "#def get_url_content(url):\n",
    "    #url_list=[]\n",
    "    #for i in range(0,50):\n",
    "        #page_number=str(i+1)\n",
    "        #url = 'http://www.dianping.com/hongkong/food/'+ 'p'+page_number\n",
    "        #url_list.append(url)\n",
    "    #return html"
   ]
  },
  {
   "cell_type": "code",
   "execution_count": 79,
   "metadata": {},
   "outputs": [],
   "source": [
    "from selenium import webdriver\n",
    "import time\n",
    "browser = webdriver.Chrome()\n",
    "url = 'http://www.dianping.com/hongkong/food/'\n",
    "browser.get(url)"
   ]
  },
  {
   "cell_type": "code",
   "execution_count": 74,
   "metadata": {},
   "outputs": [],
   "source": [
    "names = []"
   ]
  },
  {
   "cell_type": "code",
   "execution_count": 75,
   "metadata": {},
   "outputs": [],
   "source": [
    "for i in range(50):\n",
    "    for k in browser.find_elements_by_class_name('shopname'):\n",
    "        name = k.text\n",
    "        names.append(name)\n",
    "        next_button = browser.find_element_by_class_name('NextPage') #get the element's location\n",
    "    next_button.location\n",
    "    loc = next_button.location\n",
    "    browser.execute_script(\"window.scrollTo({x}, {y});\".format(**loc)) #scroll to the element\n",
    "    next_button.click()"
   ]
  },
  {
   "cell_type": "code",
   "execution_count": 76,
   "metadata": {},
   "outputs": [],
   "source": [
    "adds = []\n",
    "for i in range(50):\n",
    "    for k in browser.find_elements_by_class_name('address'):\n",
    "        add = k.text\n",
    "        adds.append(add)\n",
    "        next_button = browser.find_element_by_class_name('NextPage') #get the element's location\n",
    "    next_button.location\n",
    "    loc = next_button.location\n",
    "    browser.execute_script(\"window.scrollTo({x}, {y});\".format(**loc)) #scroll to the element\n",
    "    next_button.click()"
   ]
  },
  {
   "cell_type": "code",
   "execution_count": 77,
   "metadata": {},

   "source": [
    "averages = []\n",
    "for i in range(50):\n",
    "    for k in browser.find_elements_by_class_name('average'):\n",
    "        average = k.text\n",
    "        averages.append(average)\n",
    "        next_button = browser.find_element_by_class_name('NextPage') #get the element's location\n",
    "    next_button.location\n",
    "    loc = next_button.location\n",
    "    browser.execute_script(\"window.scrollTo({x}, {y});\".format(**loc)) #scroll to the element\n",
    "    next_button.click()"
   ]
  },
  {
   "cell_type": "code",
   "execution_count": 80,
   "metadata": {},
   "outputs": [],
   "source": [
    "fts = []\n",
    "for i in range(50):\n",
    "    for k in browser.find_elements_by_class_name('features'):\n",
    "        features = k.text\n",
    "        fts.append(features)\n",
    "        next_button = browser.find_element_by_class_name('NextPage') #get the element's location\n",
    "    next_button.location\n",
    "    loc = next_button.location\n",
    "    browser.execute_script(\"window.scrollTo({x}, {y});\".format(**loc)) #scroll to the element\n",
    "    next_button.click()"
   ]
  },
  {
   "cell_type": "code",
   "execution_count": 81,
   "metadata": {},
   "outputs": [],
   "source": [
    "tags = []\n",
    "for i in range(50):\n",
    "    for k in browser.find_elements_by_class_name('tags'):\n",
    "        tag = k.text\n",
    "        tags.append(tag)\n",
    "        next_button = browser.find_element_by_class_name('NextPage') #get the element's location\n",
    "    next_button.location\n",
    "    loc = next_button.location\n",
    "    browser.execute_script(\"window.scrollTo({x}, {y});\".format(**loc)) #scroll to the element\n",
    "    next_button.click()"
   ]
  },
  {
   "cell_type": "code",
   "execution_count": 82,
   "metadata": {},
   "outputs": [],
   "source": [
    "tables = []\n",
    "for i in range(700):\n",
    "    table = [(names[i]),(tags[i]),(adds[i]),(averages[i]),(fts[i])]\n",
    "    tables.append(table)\n",
    "    #print(names[i])\n",
    "    #print(tags[i])\n",
    "    #print(adds[i])\n",
    "    "
   ]
  },
  {
   "cell_type": "code",
   "execution_count": 83,
   "metadata": {},
   "outputs": [],
   "source": [
    "header = ['shopname','tags','address&tel','average','features']\n",
    "import csv\n",
    "with open('hkfood.csv', 'w', newline = '\\n') as file:\n",
    "\twriter = csv.writer(file)\n",
    "\twriter.writerow(header)\n",
    "\twriter.writerows(tables)"
   ]
  },
  {
   "cell_type": "code",
   "execution_count": 84,
   "metadata": {},
 

 





